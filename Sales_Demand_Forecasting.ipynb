{
  "cells": [
    {
      "cell_type": "markdown",
      "source": [
        "**Item Demand Forecasting**"
      ],
      "metadata": {
        "id": "ga2YtkBXipHM"
      }
    },
    {
      "cell_type": "code",
      "execution_count": null,
      "metadata": {
        "colab": {
          "base_uri": "https://localhost:8080/",
          "height": 237
        },
        "id": "smK0vzRW6EYI",
        "outputId": "50793bdb-f5dc-4e47-b192-2c74fff5282e"
      },
      "outputs": [
        {
          "output_type": "execute_result",
          "data": {
            "text/html": [
              "\n",
              "  <div id=\"df-9022f7e5-ebcd-46f9-ae4f-55f8444466e0\">\n",
              "    <div class=\"colab-df-container\">\n",
              "      <div>\n",
              "<style scoped>\n",
              "    .dataframe tbody tr th:only-of-type {\n",
              "        vertical-align: middle;\n",
              "    }\n",
              "\n",
              "    .dataframe tbody tr th {\n",
              "        vertical-align: top;\n",
              "    }\n",
              "\n",
              "    .dataframe thead th {\n",
              "        text-align: right;\n",
              "    }\n",
              "</style>\n",
              "<table border=\"1\" class=\"dataframe\">\n",
              "  <thead>\n",
              "    <tr style=\"text-align: right;\">\n",
              "      <th></th>\n",
              "      <th>store</th>\n",
              "      <th>item</th>\n",
              "      <th>sales</th>\n",
              "    </tr>\n",
              "    <tr>\n",
              "      <th>date</th>\n",
              "      <th></th>\n",
              "      <th></th>\n",
              "      <th></th>\n",
              "    </tr>\n",
              "  </thead>\n",
              "  <tbody>\n",
              "    <tr>\n",
              "      <th>2013-01</th>\n",
              "      <td>1</td>\n",
              "      <td>1</td>\n",
              "      <td>13</td>\n",
              "    </tr>\n",
              "    <tr>\n",
              "      <th>2013-01</th>\n",
              "      <td>1</td>\n",
              "      <td>1</td>\n",
              "      <td>11</td>\n",
              "    </tr>\n",
              "    <tr>\n",
              "      <th>2013-01</th>\n",
              "      <td>1</td>\n",
              "      <td>1</td>\n",
              "      <td>14</td>\n",
              "    </tr>\n",
              "    <tr>\n",
              "      <th>2013-01</th>\n",
              "      <td>1</td>\n",
              "      <td>1</td>\n",
              "      <td>13</td>\n",
              "    </tr>\n",
              "    <tr>\n",
              "      <th>2013-01</th>\n",
              "      <td>1</td>\n",
              "      <td>1</td>\n",
              "      <td>10</td>\n",
              "    </tr>\n",
              "  </tbody>\n",
              "</table>\n",
              "</div>\n",
              "      <button class=\"colab-df-convert\" onclick=\"convertToInteractive('df-9022f7e5-ebcd-46f9-ae4f-55f8444466e0')\"\n",
              "              title=\"Convert this dataframe to an interactive table.\"\n",
              "              style=\"display:none;\">\n",
              "        \n",
              "  <svg xmlns=\"http://www.w3.org/2000/svg\" height=\"24px\"viewBox=\"0 0 24 24\"\n",
              "       width=\"24px\">\n",
              "    <path d=\"M0 0h24v24H0V0z\" fill=\"none\"/>\n",
              "    <path d=\"M18.56 5.44l.94 2.06.94-2.06 2.06-.94-2.06-.94-.94-2.06-.94 2.06-2.06.94zm-11 1L8.5 8.5l.94-2.06 2.06-.94-2.06-.94L8.5 2.5l-.94 2.06-2.06.94zm10 10l.94 2.06.94-2.06 2.06-.94-2.06-.94-.94-2.06-.94 2.06-2.06.94z\"/><path d=\"M17.41 7.96l-1.37-1.37c-.4-.4-.92-.59-1.43-.59-.52 0-1.04.2-1.43.59L10.3 9.45l-7.72 7.72c-.78.78-.78 2.05 0 2.83L4 21.41c.39.39.9.59 1.41.59.51 0 1.02-.2 1.41-.59l7.78-7.78 2.81-2.81c.8-.78.8-2.07 0-2.86zM5.41 20L4 18.59l7.72-7.72 1.47 1.35L5.41 20z\"/>\n",
              "  </svg>\n",
              "      </button>\n",
              "      \n",
              "  <style>\n",
              "    .colab-df-container {\n",
              "      display:flex;\n",
              "      flex-wrap:wrap;\n",
              "      gap: 12px;\n",
              "    }\n",
              "\n",
              "    .colab-df-convert {\n",
              "      background-color: #E8F0FE;\n",
              "      border: none;\n",
              "      border-radius: 50%;\n",
              "      cursor: pointer;\n",
              "      display: none;\n",
              "      fill: #1967D2;\n",
              "      height: 32px;\n",
              "      padding: 0 0 0 0;\n",
              "      width: 32px;\n",
              "    }\n",
              "\n",
              "    .colab-df-convert:hover {\n",
              "      background-color: #E2EBFA;\n",
              "      box-shadow: 0px 1px 2px rgba(60, 64, 67, 0.3), 0px 1px 3px 1px rgba(60, 64, 67, 0.15);\n",
              "      fill: #174EA6;\n",
              "    }\n",
              "\n",
              "    [theme=dark] .colab-df-convert {\n",
              "      background-color: #3B4455;\n",
              "      fill: #D2E3FC;\n",
              "    }\n",
              "\n",
              "    [theme=dark] .colab-df-convert:hover {\n",
              "      background-color: #434B5C;\n",
              "      box-shadow: 0px 1px 3px 1px rgba(0, 0, 0, 0.15);\n",
              "      filter: drop-shadow(0px 1px 2px rgba(0, 0, 0, 0.3));\n",
              "      fill: #FFFFFF;\n",
              "    }\n",
              "  </style>\n",
              "\n",
              "      <script>\n",
              "        const buttonEl =\n",
              "          document.querySelector('#df-9022f7e5-ebcd-46f9-ae4f-55f8444466e0 button.colab-df-convert');\n",
              "        buttonEl.style.display =\n",
              "          google.colab.kernel.accessAllowed ? 'block' : 'none';\n",
              "\n",
              "        async function convertToInteractive(key) {\n",
              "          const element = document.querySelector('#df-9022f7e5-ebcd-46f9-ae4f-55f8444466e0');\n",
              "          const dataTable =\n",
              "            await google.colab.kernel.invokeFunction('convertToInteractive',\n",
              "                                                     [key], {});\n",
              "          if (!dataTable) return;\n",
              "\n",
              "          const docLinkHtml = 'Like what you see? Visit the ' +\n",
              "            '<a target=\"_blank\" href=https://colab.research.google.com/notebooks/data_table.ipynb>data table notebook</a>'\n",
              "            + ' to learn more about interactive tables.';\n",
              "          element.innerHTML = '';\n",
              "          dataTable['output_type'] = 'display_data';\n",
              "          await google.colab.output.renderOutput(dataTable, element);\n",
              "          const docLink = document.createElement('div');\n",
              "          docLink.innerHTML = docLinkHtml;\n",
              "          element.appendChild(docLink);\n",
              "        }\n",
              "      </script>\n",
              "    </div>\n",
              "  </div>\n",
              "  "
            ],
            "text/plain": [
              "         store  item  sales\n",
              "date                       \n",
              "2013-01      1     1     13\n",
              "2013-01      1     1     11\n",
              "2013-01      1     1     14\n",
              "2013-01      1     1     13\n",
              "2013-01      1     1     10"
            ]
          },
          "metadata": {},
          "execution_count": 2
        }
      ],
      "source": [
        "# fit an ARIMA model and plot residual errors\n",
        "import pandas as pd\n",
        "from pandas import datetime\n",
        "from pandas import read_csv\n",
        "from pandas import DataFrame\n",
        "from statsmodels.tsa.arima_model import ARIMA\n",
        "from matplotlib import pyplot\n",
        "import warnings\n",
        "warnings.filterwarnings('ignore')\n",
        "# load dataset\n",
        "series = read_csv('train 2.csv',  header=0, index_col=0, parse_dates=True, squeeze=True)\n",
        "series.index = series.index.to_period('M')\n",
        "series.head()"
      ]
    },
    {
      "cell_type": "code",
      "execution_count": null,
      "metadata": {
        "colab": {
          "base_uri": "https://localhost:8080/"
        },
        "id": "st0eUX2u6EYW",
        "outputId": "40cbea43-f5e3-4d86-8828-855888f16c17"
      },
      "outputs": [
        {
          "output_type": "stream",
          "name": "stdout",
          "text": [
            "training and testing dataset \n",
            "\n",
            " date\n",
            "2013-01     454904\n",
            "2013-02     459417\n",
            "2013-03     617382\n",
            "2013-04     682274\n",
            "2013-05     763242\n",
            "2013-06     795597\n",
            "2013-07     855922\n",
            "2013-08     766761\n",
            "2013-09     689907\n",
            "2013-10     656587\n",
            "2013-11     692643\n",
            "2013-12     506607\n",
            "2014-01     525987\n",
            "2014-02     529117\n",
            "2014-03     704301\n",
            "2014-04     788914\n",
            "2014-05     882877\n",
            "2014-06     906842\n",
            "2014-07     989010\n",
            "2014-08     885596\n",
            "2014-09     785124\n",
            "2014-10     758883\n",
            "2014-11     800783\n",
            "2014-12     578048\n",
            "2015-01     552513\n",
            "2015-02     551317\n",
            "2015-03     730951\n",
            "2015-04     824467\n",
            "2015-05     926902\n",
            "2015-06     937184\n",
            "2015-07    1037350\n",
            "2015-08     920401\n",
            "2015-09     823332\n",
            "2015-10     797253\n",
            "2015-11     827645\n",
            "2015-12     607572\n",
            "2016-01     602439\n",
            "2016-02     614957\n",
            "2016-03     790881\n",
            "2016-04     901950\n",
            "2016-05     988730\n",
            "2016-06    1022664\n",
            "2016-07    1138718\n",
            "2016-08     981494\n",
            "2016-09     896831\n",
            "2016-10     863637\n",
            "2016-11     891448\n",
            "2016-12     663411\n",
            "Freq: M, Name: sales, dtype: int64\n",
            "\n",
            "\n",
            "validation dataset \n",
            "\n",
            " date\n",
            "2017-01     617306\n",
            "2017-02     621369\n",
            "2017-03     822667\n",
            "2017-04     938862\n",
            "2017-05    1020686\n",
            "2017-06    1064624\n",
            "2017-07    1171393\n",
            "2017-08    1026403\n",
            "2017-09     935263\n",
            "2017-10     891160\n",
            "2017-11     928837\n",
            "2017-12     695170\n",
            "Freq: M, Name: sales, dtype: int64\n"
          ]
        }
      ],
      "source": [
        "series = series.sort_index()\n",
        "series = series['sales']\n",
        "series = series.groupby(pd.Grouper(freq=\"M\"))\n",
        "series = series.sum()\n",
        "series_main=series.copy()\n",
        "series = series.head(48)\n",
        "print('training and testing dataset \\n\\n',series)\n",
        "validation = series_main.tail(12)\n",
        "print('\\n\\nvalidation dataset \\n\\n',validation)"
      ]
    },
    {
      "cell_type": "markdown",
      "metadata": {
        "id": "eKsiugJk6EYZ"
      },
      "source": [
        "# Fitting the ARIMA Model on Training Set"
      ]
    },
    {
      "cell_type": "code",
      "execution_count": null,
      "metadata": {
        "colab": {
          "base_uri": "https://localhost:8080/",
          "height": 1000
        },
        "id": "EJdZC_PE6EYg",
        "outputId": "761f97e7-aeef-4032-8d65-9de0b19acb1d"
      },
      "outputs": [
        {
          "output_type": "stream",
          "name": "stdout",
          "text": [
            "                             ARIMA Model Results                              \n",
            "==============================================================================\n",
            "Dep. Variable:                D.sales   No. Observations:                   47\n",
            "Model:                 ARIMA(5, 1, 0)   Log Likelihood                -595.041\n",
            "Method:                       css-mle   S.D. of innovations          73734.705\n",
            "Date:                Sun, 02 Jan 2022   AIC                           1204.081\n",
            "Time:                        15:53:27   BIC                           1217.032\n",
            "Sample:                    02-28-2013   HQIC                          1208.955\n",
            "                         - 12-31-2016                                         \n",
            "=================================================================================\n",
            "                    coef    std err          z      P>|z|      [0.025      0.975]\n",
            "---------------------------------------------------------------------------------\n",
            "const          4436.3191   9388.135      0.473      0.639    -1.4e+04    2.28e+04\n",
            "ar.L1.D.sales     0.3288      0.114      2.873      0.006       0.104       0.553\n",
            "ar.L2.D.sales    -0.0392      0.113     -0.345      0.731      -0.261       0.183\n",
            "ar.L3.D.sales    -0.1528      0.110     -1.390      0.172      -0.368       0.063\n",
            "ar.L4.D.sales     0.3229      0.115      2.796      0.008       0.097       0.549\n",
            "ar.L5.D.sales    -0.6567      0.110     -5.947      0.000      -0.873      -0.440\n",
            "                                    Roots                                    \n",
            "=============================================================================\n",
            "                  Real          Imaginary           Modulus         Frequency\n",
            "-----------------------------------------------------------------------------\n",
            "AR.1           -1.0466           -0.0000j            1.0466           -0.5000\n",
            "AR.2           -0.1543           -1.0902j            1.1011           -0.2724\n",
            "AR.3           -0.1543           +1.0902j            1.1011            0.2724\n",
            "AR.4            0.9235           -0.5894j            1.0955           -0.0904\n",
            "AR.5            0.9235           +0.5894j            1.0955            0.0904\n",
            "-----------------------------------------------------------------------------\n"
          ]
        },
        {
          "output_type": "display_data",
          "data": {
            "image/png": "[encoded data removed]",
            "text/plain": [
              "<Figure size 432x288 with 1 Axes>"
            ]
          },
          "metadata": {
            "needs_background": "light"
          }
        },
        {
          "output_type": "display_data",
          "data": {
            "image/png": "[encoded data removed]",
            "text/plain": [
              "<Figure size 432x288 with 1 Axes>"
            ]
          },
          "metadata": {
            "needs_background": "light"
          }
        },
        {
          "output_type": "stream",
          "name": "stdout",
          "text": [
            "                   0\n",
            "count      47.000000\n",
            "mean     4467.865250\n",
            "std     76349.427328\n",
            "min   -170846.846537\n",
            "25%    -44858.954969\n",
            "50%     13661.954220\n",
            "75%     46457.929321\n",
            "max    153515.903049\n"
          ]
        }
      ],
      "source": [
        "# fit model\n",
        "model = ARIMA(series, order=(5,1,0))\n",
        "model_fit = model.fit()\n",
        "# summary of fit model\n",
        "print(model_fit.summary())\n",
        "# line plot of residuals\n",
        "residuals = DataFrame(model_fit.resid)\n",
        "residuals.plot()\n",
        "pyplot.show()\n",
        "# density plot of residuals\n",
        "residuals.plot(kind='kde')\n",
        "pyplot.show()\n",
        "# summary stats of residuals\n",
        "print(residuals.describe())"
      ]
    },
    {
      "cell_type": "code",
      "execution_count": null,
      "metadata": {
        "colab": {
          "base_uri": "https://localhost:8080/"
        },
        "id": "3YyHT_Y-6EYm",
        "outputId": "08d6f35c-91b7-482d-a246-cce46913ca53"
      },
      "outputs": [
        {
          "output_type": "stream",
          "name": "stdout",
          "text": [
            "33\n"
          ]
        }
      ],
      "source": [
        "#lets make prediction\n",
        "X = series.copy()\n",
        "size = int(len(X) * 0.70)\n",
        "print(size)\n",
        "train, test = X[0:size], X[size:len(X)]\n",
        "history = [x for x in train]\n",
        "predictions = list()"
      ]
    },
    {
      "cell_type": "markdown",
      "metadata": {
        "id": "K6hUS8Nb6EYo"
      },
      "source": [
        "# Prediction on Testing Set"
      ]
    },
    {
      "cell_type": "code",
      "execution_count": null,
      "metadata": {
        "colab": {
          "base_uri": "https://localhost:8080/"
        },
        "id": "asKTCEAu6EYq",
        "outputId": "4e180a9d-a7c6-4e8a-b52a-3bbbac2cf2ff"
      },
      "outputs": [
        {
          "output_type": "stream",
          "name": "stdout",
          "text": [
            "predicted=713354.962971, expected=797253.000000\n",
            "predicted=851644.944943, expected=827645.000000\n",
            "predicted=775665.181745, expected=607572.000000\n",
            "predicted=582258.169834, expected=602439.000000\n",
            "predicted=667661.903734, expected=614957.000000\n",
            "predicted=682165.423520, expected=790881.000000\n",
            "predicted=764718.162729, expected=901950.000000\n",
            "predicted=1085408.569429, expected=988730.000000\n",
            "predicted=991538.676294, expected=1022664.000000\n",
            "predicted=1058945.657653, expected=1138718.000000\n",
            "predicted=1105695.771476, expected=981494.000000\n",
            "predicted=881235.355638, expected=896831.000000\n",
            "predicted=809702.494309, expected=863637.000000\n",
            "predicted=905464.369895, expected=891448.000000\n",
            "predicted=812515.419255, expected=663411.000000\n"
          ]
        }
      ],
      "source": [
        "from numpy import sqrt \n",
        "\n",
        "# walk-forward validation\n",
        "for t in range(len(test)):\n",
        "\tmodel = ARIMA(history, order=(5,1,0))\n",
        "\tmodel_fit = model.fit()\n",
        "\toutput = model_fit.forecast()\n",
        "\tyhat = output[0]\n",
        "\tpredictions.append(yhat)\n",
        "\tobs = test[t]\n",
        "\thistory.append(obs)\n",
        "\tprint('predicted=%f, expected=%f' % (yhat, obs))"
      ]
    },
    {
      "cell_type": "code",
      "execution_count": null,
      "metadata": {
        "colab": {
          "base_uri": "https://localhost:8080/"
        },
        "id": "06CIzTko6EYw",
        "outputId": "6e20bebf-768a-4a83-f13b-b4638c64ab93"
      },
      "outputs": [
        {
          "output_type": "stream",
          "name": "stdout",
          "text": [
            "Test RMSE: 92156.715\n"
          ]
        }
      ],
      "source": [
        "from sklearn.metrics import mean_squared_error\n",
        "# evaluate forecasts\n",
        "rmse = sqrt(mean_squared_error(test, predictions))\n",
        "\n",
        "print('Test RMSE: %.3f' % rmse)"
      ]
    },
    {
      "cell_type": "code",
      "execution_count": null,
      "metadata": {
        "colab": {
          "base_uri": "https://localhost:8080/",
          "height": 520
        },
        "id": "Bm5ocQBX6EY0",
        "outputId": "23adc853-d55b-4010-90e1-09e241a8aae9"
      },
      "outputs": [
        {
          "output_type": "execute_result",
          "data": {
            "text/html": [
              "\n",
              "  <div id=\"df-f2c77d3e-9541-4075-b592-ca5698f19ba4\">\n",
              "    <div class=\"colab-df-container\">\n",
              "      <div>\n",
              "<style scoped>\n",
              "    .dataframe tbody tr th:only-of-type {\n",
              "        vertical-align: middle;\n",
              "    }\n",
              "\n",
              "    .dataframe tbody tr th {\n",
              "        vertical-align: top;\n",
              "    }\n",
              "\n",
              "    .dataframe thead th {\n",
              "        text-align: right;\n",
              "    }\n",
              "</style>\n",
              "<table border=\"1\" class=\"dataframe\">\n",
              "  <thead>\n",
              "    <tr style=\"text-align: right;\">\n",
              "      <th></th>\n",
              "      <th>date</th>\n",
              "      <th>sales</th>\n",
              "      <th>predictions</th>\n",
              "    </tr>\n",
              "  </thead>\n",
              "  <tbody>\n",
              "    <tr>\n",
              "      <th>0</th>\n",
              "      <td>2015-10</td>\n",
              "      <td>797253</td>\n",
              "      <td>[713354.9629708354]</td>\n",
              "    </tr>\n",
              "    <tr>\n",
              "      <th>1</th>\n",
              "      <td>2015-11</td>\n",
              "      <td>827645</td>\n",
              "      <td>[851644.9449430258]</td>\n",
              "    </tr>\n",
              "    <tr>\n",
              "      <th>2</th>\n",
              "      <td>2015-12</td>\n",
              "      <td>607572</td>\n",
              "      <td>[775665.1817449776]</td>\n",
              "    </tr>\n",
              "    <tr>\n",
              "      <th>3</th>\n",
              "      <td>2016-01</td>\n",
              "      <td>602439</td>\n",
              "      <td>[582258.1698341373]</td>\n",
              "    </tr>\n",
              "    <tr>\n",
              "      <th>4</th>\n",
              "      <td>2016-02</td>\n",
              "      <td>614957</td>\n",
              "      <td>[667661.9037335255]</td>\n",
              "    </tr>\n",
              "    <tr>\n",
              "      <th>5</th>\n",
              "      <td>2016-03</td>\n",
              "      <td>790881</td>\n",
              "      <td>[682165.423519529]</td>\n",
              "    </tr>\n",
              "    <tr>\n",
              "      <th>6</th>\n",
              "      <td>2016-04</td>\n",
              "      <td>901950</td>\n",
              "      <td>[764718.1627287078]</td>\n",
              "    </tr>\n",
              "    <tr>\n",
              "      <th>7</th>\n",
              "      <td>2016-05</td>\n",
              "      <td>988730</td>\n",
              "      <td>[1085408.569428657]</td>\n",
              "    </tr>\n",
              "    <tr>\n",
              "      <th>8</th>\n",
              "      <td>2016-06</td>\n",
              "      <td>1022664</td>\n",
              "      <td>[991538.6762936307]</td>\n",
              "    </tr>\n",
              "    <tr>\n",
              "      <th>9</th>\n",
              "      <td>2016-07</td>\n",
              "      <td>1138718</td>\n",
              "      <td>[1058945.6576531224]</td>\n",
              "    </tr>\n",
              "    <tr>\n",
              "      <th>10</th>\n",
              "      <td>2016-08</td>\n",
              "      <td>981494</td>\n",
              "      <td>[1105695.7714756955]</td>\n",
              "    </tr>\n",
              "    <tr>\n",
              "      <th>11</th>\n",
              "      <td>2016-09</td>\n",
              "      <td>896831</td>\n",
              "      <td>[881235.3556384331]</td>\n",
              "    </tr>\n",
              "    <tr>\n",
              "      <th>12</th>\n",
              "      <td>2016-10</td>\n",
              "      <td>863637</td>\n",
              "      <td>[809702.4943092997]</td>\n",
              "    </tr>\n",
              "    <tr>\n",
              "      <th>13</th>\n",
              "      <td>2016-11</td>\n",
              "      <td>891448</td>\n",
              "      <td>[905464.3698947956]</td>\n",
              "    </tr>\n",
              "    <tr>\n",
              "      <th>14</th>\n",
              "      <td>2016-12</td>\n",
              "      <td>663411</td>\n",
              "      <td>[812515.4192552855]</td>\n",
              "    </tr>\n",
              "  </tbody>\n",
              "</table>\n",
              "</div>\n",
              "      <button class=\"colab-df-convert\" onclick=\"convertToInteractive('df-f2c77d3e-9541-4075-b592-ca5698f19ba4')\"\n",
              "              title=\"Convert this dataframe to an interactive table.\"\n",
              "              style=\"display:none;\">\n",
              "        \n",
              "  <svg xmlns=\"http://www.w3.org/2000/svg\" height=\"24px\"viewBox=\"0 0 24 24\"\n",
              "       width=\"24px\">\n",
              "    <path d=\"M0 0h24v24H0V0z\" fill=\"none\"/>\n",
              "    <path d=\"M18.56 5.44l.94 2.06.94-2.06 2.06-.94-2.06-.94-.94-2.06-.94 2.06-2.06.94zm-11 1L8.5 8.5l.94-2.06 2.06-.94-2.06-.94L8.5 2.5l-.94 2.06-2.06.94zm10 10l.94 2.06.94-2.06 2.06-.94-2.06-.94-.94-2.06-.94 2.06-2.06.94z\"/><path d=\"M17.41 7.96l-1.37-1.37c-.4-.4-.92-.59-1.43-.59-.52 0-1.04.2-1.43.59L10.3 9.45l-7.72 7.72c-.78.78-.78 2.05 0 2.83L4 21.41c.39.39.9.59 1.41.59.51 0 1.02-.2 1.41-.59l7.78-7.78 2.81-2.81c.8-.78.8-2.07 0-2.86zM5.41 20L4 18.59l7.72-7.72 1.47 1.35L5.41 20z\"/>\n",
              "  </svg>\n",
              "      </button>\n",
              "      \n",
              "  <style>\n",
              "    .colab-df-container {\n",
              "      display:flex;\n",
              "      flex-wrap:wrap;\n",
              "      gap: 12px;\n",
              "    }\n",
              "\n",
              "    .colab-df-convert {\n",
              "      background-color: #E8F0FE;\n",
              "      border: none;\n",
              "      border-radius: 50%;\n",
              "      cursor: pointer;\n",
              "      display: none;\n",
              "      fill: #1967D2;\n",
              "      height: 32px;\n",
              "      padding: 0 0 0 0;\n",
              "      width: 32px;\n",
              "    }\n",
              "\n",
              "    .colab-df-convert:hover {\n",
              "      background-color: #E2EBFA;\n",
              "      box-shadow: 0px 1px 2px rgba(60, 64, 67, 0.3), 0px 1px 3px 1px rgba(60, 64, 67, 0.15);\n",
              "      fill: #174EA6;\n",
              "    }\n",
              "\n",
              "    [theme=dark] .colab-df-convert {\n",
              "      background-color: #3B4455;\n",
              "      fill: #D2E3FC;\n",
              "    }\n",
              "\n",
              "    [theme=dark] .colab-df-convert:hover {\n",
              "      background-color: #434B5C;\n",
              "      box-shadow: 0px 1px 3px 1px rgba(0, 0, 0, 0.15);\n",
              "      filter: drop-shadow(0px 1px 2px rgba(0, 0, 0, 0.3));\n",
              "      fill: #FFFFFF;\n",
              "    }\n",
              "  </style>\n",
              "\n",
              "      <script>\n",
              "        const buttonEl =\n",
              "          document.querySelector('#df-f2c77d3e-9541-4075-b592-ca5698f19ba4 button.colab-df-convert');\n",
              "        buttonEl.style.display =\n",
              "          google.colab.kernel.accessAllowed ? 'block' : 'none';\n",
              "\n",
              "        async function convertToInteractive(key) {\n",
              "          const element = document.querySelector('#df-f2c77d3e-9541-4075-b592-ca5698f19ba4');\n",
              "          const dataTable =\n",
              "            await google.colab.kernel.invokeFunction('convertToInteractive',\n",
              "                                                     [key], {});\n",
              "          if (!dataTable) return;\n",
              "\n",
              "          const docLinkHtml = 'Like what you see? Visit the ' +\n",
              "            '<a target=\"_blank\" href=https://colab.research.google.com/notebooks/data_table.ipynb>data table notebook</a>'\n",
              "            + ' to learn more about interactive tables.';\n",
              "          element.innerHTML = '';\n",
              "          dataTable['output_type'] = 'display_data';\n",
              "          await google.colab.output.renderOutput(dataTable, element);\n",
              "          const docLink = document.createElement('div');\n",
              "          docLink.innerHTML = docLinkHtml;\n",
              "          element.appendChild(docLink);\n",
              "        }\n",
              "      </script>\n",
              "    </div>\n",
              "  </div>\n",
              "  "
            ],
            "text/plain": [
              "       date    sales           predictions\n",
              "0   2015-10   797253   [713354.9629708354]\n",
              "1   2015-11   827645   [851644.9449430258]\n",
              "2   2015-12   607572   [775665.1817449776]\n",
              "3   2016-01   602439   [582258.1698341373]\n",
              "4   2016-02   614957   [667661.9037335255]\n",
              "5   2016-03   790881    [682165.423519529]\n",
              "6   2016-04   901950   [764718.1627287078]\n",
              "7   2016-05   988730   [1085408.569428657]\n",
              "8   2016-06  1022664   [991538.6762936307]\n",
              "9   2016-07  1138718  [1058945.6576531224]\n",
              "10  2016-08   981494  [1105695.7714756955]\n",
              "11  2016-09   896831   [881235.3556384331]\n",
              "12  2016-10   863637   [809702.4943092997]\n",
              "13  2016-11   891448   [905464.3698947956]\n",
              "14  2016-12   663411   [812515.4192552855]"
            ]
          },
          "metadata": {},
          "execution_count": 8
        }
      ],
      "source": [
        "test=test.reset_index()\n",
        "test['predictions']=predictions\n",
        "test=test[['date','sales','predictions']]\n",
        "test"
      ]
    },
    {
      "cell_type": "code",
      "execution_count": null,
      "metadata": {
        "colab": {
          "base_uri": "https://localhost:8080/",
          "height": 275
        },
        "id": "4v60hS9a6EY5",
        "outputId": "12cb18e6-c3d4-4f64-ccb7-236c263351b5"
      },
      "outputs": [
        {
          "output_type": "display_data",
          "data": {
            "image/png": "[encoded data removed]",
            "text/plain": [
              "<Figure size 432x288 with 1 Axes>"
            ]
          },
          "metadata": {
            "needs_background": "light"
          }
        }
      ],
      "source": [
        "# plot forecasts against actual outcomes\n",
        "pyplot.plot(predictions, color='red')\n",
        "pyplot.plot(test['sales'])\n",
        "pyplot.show()"
      ]
    },
    {
      "cell_type": "markdown",
      "metadata": {
        "id": "1TAxJLwp6EY7"
      },
      "source": [
        "# Final Predction on Validation Set"
      ]
    },
    {
      "cell_type": "code",
      "execution_count": null,
      "metadata": {
        "colab": {
          "base_uri": "https://localhost:8080/"
        },
        "id": "D7hkQ7Cw6EY9",
        "outputId": "e0ce5f3f-a4b2-4fcf-8a33-dd16bb13992d"
      },
      "outputs": [
        {
          "output_type": "stream",
          "name": "stdout",
          "text": [
            "predicted=673638.760318, expected=617306.000000\n",
            "predicted=654139.467260, expected=621369.000000\n",
            "predicted=695776.230425, expected=822667.000000\n",
            "predicted=816799.580173, expected=938862.000000\n",
            "predicted=1112335.854995, expected=1020686.000000\n",
            "predicted=1032216.216253, expected=1064624.000000\n",
            "predicted=1118630.693782, expected=1171393.000000\n",
            "predicted=1117427.332133, expected=1026403.000000\n",
            "predicted=913817.749455, expected=935263.000000\n",
            "predicted=854317.491488, expected=891160.000000\n",
            "predicted=927424.689720, expected=928837.000000\n",
            "predicted=861277.143736, expected=695170.000000\n"
          ]
        }
      ],
      "source": [
        "# walk-forward validation\n",
        "for t in range(len(validation)):\n",
        "\tmodel = ARIMA(history, order=(5,1,0))\n",
        "\tmodel_fit = model.fit()\n",
        "\toutput = model_fit.forecast()\n",
        "\tyhat = output[0]\n",
        "\tpredictions.append(yhat)\n",
        "\tobs = validation[t]\n",
        "\thistory.append(obs)\n",
        "\tprint('predicted=%f, expected=%f' % (yhat, obs))"
      ]
    }
  ],
  "metadata": {
    "kernelspec": {
      "display_name": "Python 3",
      "language": "python",
      "name": "python3"
    },
    "language_info": {
      "codemirror_mode": {
        "name": "ipython",
        "version": 3
      },
      "file_extension": ".py",
      "mimetype": "text/x-python",
      "name": "python",
      "nbconvert_exporter": "python",
      "pygments_lexer": "ipython3",
      "version": "3.7.4"
    },
    "colab": {
      "name": "Sales_Demand_Forcasting.ipynb",
      "provenance": []
    }
  },
  "nbformat": 4,
  "nbformat_minor": 0
}